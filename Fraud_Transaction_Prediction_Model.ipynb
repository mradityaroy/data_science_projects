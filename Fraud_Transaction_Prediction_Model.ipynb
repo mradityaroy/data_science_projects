{
 "cells": [
  {
   "cell_type": "code",
   "execution_count": 1,
   "id": "e376eb01",
   "metadata": {},
   "outputs": [],
   "source": [
    "import pandas as pd\n",
    "import numpy as np\n",
    "import matplotlib.pyplot as plt\n",
    "import seaborn as sns\n",
    "from matplotlib import gridspec"
   ]
  },
  {
   "cell_type": "code",
   "execution_count": 2,
   "id": "8d8e6375",
   "metadata": {},
   "outputs": [],
   "source": [
    "data = pd.read_csv('fraud_CreditData1.csv')"
   ]
  },
  {
   "cell_type": "code",
   "execution_count": 3,
   "id": "91e233d4",
   "metadata": {},
   "outputs": [
    {
     "data": {
      "text/html": [
       "<div>\n",
       "<style scoped>\n",
       "    .dataframe tbody tr th:only-of-type {\n",
       "        vertical-align: middle;\n",
       "    }\n",
       "\n",
       "    .dataframe tbody tr th {\n",
       "        vertical-align: top;\n",
       "    }\n",
       "\n",
       "    .dataframe thead th {\n",
       "        text-align: right;\n",
       "    }\n",
       "</style>\n",
       "<table border=\"1\" class=\"dataframe\">\n",
       "  <thead>\n",
       "    <tr style=\"text-align: right;\">\n",
       "      <th></th>\n",
       "      <th>Unnamed: 0</th>\n",
       "      <th>trans_date_trans_time</th>\n",
       "      <th>cc_num</th>\n",
       "      <th>merchant</th>\n",
       "      <th>category</th>\n",
       "      <th>amt</th>\n",
       "      <th>first</th>\n",
       "      <th>last</th>\n",
       "      <th>gender</th>\n",
       "      <th>street</th>\n",
       "      <th>...</th>\n",
       "      <th>lat</th>\n",
       "      <th>long</th>\n",
       "      <th>city_pop</th>\n",
       "      <th>job</th>\n",
       "      <th>dob</th>\n",
       "      <th>trans_num</th>\n",
       "      <th>unix_time</th>\n",
       "      <th>merch_lat</th>\n",
       "      <th>merch_long</th>\n",
       "      <th>is_fraud</th>\n",
       "    </tr>\n",
       "  </thead>\n",
       "  <tbody>\n",
       "    <tr>\n",
       "      <th>0</th>\n",
       "      <td>0</td>\n",
       "      <td>6/21/2020 12:14</td>\n",
       "      <td>2.291160e+15</td>\n",
       "      <td>Kirlin and Sons</td>\n",
       "      <td>personal_care</td>\n",
       "      <td>2.86</td>\n",
       "      <td>Jeff</td>\n",
       "      <td>Elliott</td>\n",
       "      <td>M</td>\n",
       "      <td>351 Darlene Green</td>\n",
       "      <td>...</td>\n",
       "      <td>33.9659</td>\n",
       "      <td>-80.9355</td>\n",
       "      <td>333497</td>\n",
       "      <td>Mechanical engineer</td>\n",
       "      <td>3/19/1968</td>\n",
       "      <td>2da90c7d74bd46a0caf3777415b3ebd3</td>\n",
       "      <td>1371816865</td>\n",
       "      <td>33.986391</td>\n",
       "      <td>-81.200714</td>\n",
       "      <td>0</td>\n",
       "    </tr>\n",
       "    <tr>\n",
       "      <th>1</th>\n",
       "      <td>1</td>\n",
       "      <td>6/21/2020 12:14</td>\n",
       "      <td>3.573030e+15</td>\n",
       "      <td>Sporer-Keebler</td>\n",
       "      <td>personal_care</td>\n",
       "      <td>29.84</td>\n",
       "      <td>Joanne</td>\n",
       "      <td>Williams</td>\n",
       "      <td>F</td>\n",
       "      <td>3638 Marsh Union</td>\n",
       "      <td>...</td>\n",
       "      <td>40.3207</td>\n",
       "      <td>-110.4360</td>\n",
       "      <td>302</td>\n",
       "      <td>Sales professional, IT</td>\n",
       "      <td>1/17/1990</td>\n",
       "      <td>324cc204407e99f51b0d6ca0055005e7</td>\n",
       "      <td>1371816873</td>\n",
       "      <td>39.450498</td>\n",
       "      <td>-109.960431</td>\n",
       "      <td>0</td>\n",
       "    </tr>\n",
       "    <tr>\n",
       "      <th>2</th>\n",
       "      <td>2</td>\n",
       "      <td>6/21/2020 12:14</td>\n",
       "      <td>3.598220e+15</td>\n",
       "      <td>Swaniawski, Nitzsche and Welch</td>\n",
       "      <td>health_fitness</td>\n",
       "      <td>41.28</td>\n",
       "      <td>Ashley</td>\n",
       "      <td>Lopez</td>\n",
       "      <td>F</td>\n",
       "      <td>9333 Valentine Point</td>\n",
       "      <td>...</td>\n",
       "      <td>40.6729</td>\n",
       "      <td>-73.5365</td>\n",
       "      <td>34496</td>\n",
       "      <td>Librarian, public</td>\n",
       "      <td>10/21/1970</td>\n",
       "      <td>c81755dbbbea9d5c77f094348a7579be</td>\n",
       "      <td>1371816893</td>\n",
       "      <td>40.495810</td>\n",
       "      <td>-74.196111</td>\n",
       "      <td>0</td>\n",
       "    </tr>\n",
       "    <tr>\n",
       "      <th>3</th>\n",
       "      <td>3</td>\n",
       "      <td>6/21/2020 12:15</td>\n",
       "      <td>3.591920e+15</td>\n",
       "      <td>Haley Group</td>\n",
       "      <td>misc_pos</td>\n",
       "      <td>60.05</td>\n",
       "      <td>Brian</td>\n",
       "      <td>Williams</td>\n",
       "      <td>M</td>\n",
       "      <td>32941 Krystal Mill Apt. 552</td>\n",
       "      <td>...</td>\n",
       "      <td>28.5697</td>\n",
       "      <td>-80.8191</td>\n",
       "      <td>54767</td>\n",
       "      <td>Set designer</td>\n",
       "      <td>7/25/1987</td>\n",
       "      <td>2159175b9efe66dc301f149d3d5abf8c</td>\n",
       "      <td>1371816915</td>\n",
       "      <td>28.812398</td>\n",
       "      <td>-80.883061</td>\n",
       "      <td>0</td>\n",
       "    </tr>\n",
       "    <tr>\n",
       "      <th>4</th>\n",
       "      <td>4</td>\n",
       "      <td>6/21/2020 12:15</td>\n",
       "      <td>3.526830e+15</td>\n",
       "      <td>Johnston-Casper</td>\n",
       "      <td>travel</td>\n",
       "      <td>3.19</td>\n",
       "      <td>Nathan</td>\n",
       "      <td>Massey</td>\n",
       "      <td>M</td>\n",
       "      <td>5783 Evan Roads Apt. 465</td>\n",
       "      <td>...</td>\n",
       "      <td>44.2529</td>\n",
       "      <td>-85.0170</td>\n",
       "      <td>1126</td>\n",
       "      <td>Furniture designer</td>\n",
       "      <td>7/6/1955</td>\n",
       "      <td>57ff021bd3f328f8738bb535c302a31b</td>\n",
       "      <td>1371816917</td>\n",
       "      <td>44.959148</td>\n",
       "      <td>-85.884734</td>\n",
       "      <td>0</td>\n",
       "    </tr>\n",
       "  </tbody>\n",
       "</table>\n",
       "<p>5 rows × 23 columns</p>\n",
       "</div>"
      ],
      "text/plain": [
       "   Unnamed: 0 trans_date_trans_time        cc_num  \\\n",
       "0           0       6/21/2020 12:14  2.291160e+15   \n",
       "1           1       6/21/2020 12:14  3.573030e+15   \n",
       "2           2       6/21/2020 12:14  3.598220e+15   \n",
       "3           3       6/21/2020 12:15  3.591920e+15   \n",
       "4           4       6/21/2020 12:15  3.526830e+15   \n",
       "\n",
       "                         merchant        category    amt   first      last  \\\n",
       "0                 Kirlin and Sons   personal_care   2.86    Jeff   Elliott   \n",
       "1                  Sporer-Keebler   personal_care  29.84  Joanne  Williams   \n",
       "2  Swaniawski, Nitzsche and Welch  health_fitness  41.28  Ashley     Lopez   \n",
       "3                     Haley Group        misc_pos  60.05   Brian  Williams   \n",
       "4                 Johnston-Casper          travel   3.19  Nathan    Massey   \n",
       "\n",
       "  gender                       street  ...      lat      long  city_pop  \\\n",
       "0      M            351 Darlene Green  ...  33.9659  -80.9355    333497   \n",
       "1      F             3638 Marsh Union  ...  40.3207 -110.4360       302   \n",
       "2      F         9333 Valentine Point  ...  40.6729  -73.5365     34496   \n",
       "3      M  32941 Krystal Mill Apt. 552  ...  28.5697  -80.8191     54767   \n",
       "4      M     5783 Evan Roads Apt. 465  ...  44.2529  -85.0170      1126   \n",
       "\n",
       "                      job         dob                         trans_num  \\\n",
       "0     Mechanical engineer   3/19/1968  2da90c7d74bd46a0caf3777415b3ebd3   \n",
       "1  Sales professional, IT   1/17/1990  324cc204407e99f51b0d6ca0055005e7   \n",
       "2       Librarian, public  10/21/1970  c81755dbbbea9d5c77f094348a7579be   \n",
       "3            Set designer   7/25/1987  2159175b9efe66dc301f149d3d5abf8c   \n",
       "4      Furniture designer    7/6/1955  57ff021bd3f328f8738bb535c302a31b   \n",
       "\n",
       "    unix_time  merch_lat  merch_long  is_fraud  \n",
       "0  1371816865  33.986391  -81.200714         0  \n",
       "1  1371816873  39.450498 -109.960431         0  \n",
       "2  1371816893  40.495810  -74.196111         0  \n",
       "3  1371816915  28.812398  -80.883061         0  \n",
       "4  1371816917  44.959148  -85.884734         0  \n",
       "\n",
       "[5 rows x 23 columns]"
      ]
     },
     "execution_count": 3,
     "metadata": {},
     "output_type": "execute_result"
    }
   ],
   "source": [
    "data.head()"
   ]
  },
  {
   "cell_type": "code",
   "execution_count": 4,
   "id": "ab81d3f6",
   "metadata": {},
   "outputs": [
    {
     "name": "stdout",
     "output_type": "stream",
     "text": [
      "(555719, 23)\n",
      "          Unnamed: 0        cc_num            amt            zip  \\\n",
      "count  555719.000000  5.557190e+05  555719.000000  555719.000000   \n",
      "mean   277859.000000  4.178387e+17      69.392810   48842.628015   \n",
      "std    160422.401459  1.309837e+18     156.745941   26855.283328   \n",
      "min         0.000000  6.041621e+10       1.000000    1257.000000   \n",
      "25%    138929.500000  1.800430e+14       9.630000   26292.000000   \n",
      "50%    277859.000000  3.521420e+15      47.290000   48174.000000   \n",
      "75%    416788.500000  4.635330e+15      83.010000   72011.000000   \n",
      "max    555718.000000  4.992350e+18   22768.110000   99921.000000   \n",
      "\n",
      "                 lat           long      city_pop     unix_time  \\\n",
      "count  555719.000000  555719.000000  5.557190e+05  5.557190e+05   \n",
      "mean       38.543253     -90.231325  8.822189e+04  1.380679e+09   \n",
      "std         5.061336      13.721780  3.003909e+05  5.201104e+06   \n",
      "min        20.027100    -165.672300  2.300000e+01  1.371817e+09   \n",
      "25%        34.668900     -96.798000  7.410000e+02  1.376029e+09   \n",
      "50%        39.371600     -87.476900  2.408000e+03  1.380762e+09   \n",
      "75%        41.894800     -80.175200  1.968500e+04  1.385867e+09   \n",
      "max        65.689900     -67.950300  2.906700e+06  1.388534e+09   \n",
      "\n",
      "           merch_lat     merch_long       is_fraud  \n",
      "count  555719.000000  555719.000000  555719.000000  \n",
      "mean       38.542798     -90.231380       0.003860  \n",
      "std         5.095829      13.733071       0.062008  \n",
      "min        19.027422    -166.671575       0.000000  \n",
      "25%        34.755302     -96.905129       0.000000  \n",
      "50%        39.376593     -87.445204       0.000000  \n",
      "75%        41.954163     -80.264637       0.000000  \n",
      "max        66.679297     -66.952026       1.000000  \n"
     ]
    }
   ],
   "source": [
    "print(data.shape)\n",
    "print(data.describe())"
   ]
  },
  {
   "cell_type": "code",
   "execution_count": 7,
   "id": "4e60f6d2",
   "metadata": {},
   "outputs": [
    {
     "name": "stdout",
     "output_type": "stream",
     "text": [
      "<class 'pandas.core.frame.DataFrame'>\n",
      "RangeIndex: 555719 entries, 0 to 555718\n",
      "Data columns (total 23 columns):\n",
      " #   Column                 Non-Null Count   Dtype  \n",
      "---  ------                 --------------   -----  \n",
      " 0   Unnamed: 0             555719 non-null  int64  \n",
      " 1   trans_date_trans_time  555719 non-null  float64\n",
      " 2   cc_num                 555719 non-null  float64\n",
      " 3   merchant               555719 non-null  object \n",
      " 4   category               555719 non-null  object \n",
      " 5   amt                    555719 non-null  float64\n",
      " 6   first                  555719 non-null  object \n",
      " 7   last                   555719 non-null  object \n",
      " 8   gender                 555719 non-null  object \n",
      " 9   street                 555719 non-null  object \n",
      " 10  city                   555719 non-null  object \n",
      " 11  state                  555719 non-null  object \n",
      " 12  zip                    555719 non-null  int64  \n",
      " 13  lat                    555719 non-null  float64\n",
      " 14  long                   555719 non-null  float64\n",
      " 15  city_pop               555719 non-null  int64  \n",
      " 16  job                    555719 non-null  object \n",
      " 17  dob                    555719 non-null  object \n",
      " 18  trans_num              555719 non-null  object \n",
      " 19  unix_time              555719 non-null  int64  \n",
      " 20  merch_lat              555719 non-null  float64\n",
      " 21  merch_long             555719 non-null  float64\n",
      " 22  is_fraud               555719 non-null  int64  \n",
      "dtypes: float64(7), int64(5), object(11)\n",
      "memory usage: 97.5+ MB\n"
     ]
    }
   ],
   "source": [
    "data.info()"
   ]
  },
  {
   "cell_type": "code",
   "execution_count": 8,
   "id": "5a6c23e0",
   "metadata": {},
   "outputs": [
    {
     "data": {
      "text/plain": [
       "0              0\n",
       "1              1\n",
       "2              2\n",
       "3              3\n",
       "4              4\n",
       "           ...  \n",
       "555714    555714\n",
       "555715    555715\n",
       "555716    555716\n",
       "555717    555717\n",
       "555718    555718\n",
       "Name: Unnamed: 0, Length: 555719, dtype: int64"
      ]
     },
     "execution_count": 8,
     "metadata": {},
     "output_type": "execute_result"
    }
   ],
   "source": []
  },
  {
   "cell_type": "code",
   "execution_count": 6,
   "id": "e075c5ba",
   "metadata": {},
   "outputs": [],
   "source": [
    "data['trans_date_trans_time'] = pd.to_datetime(data['trans_date_trans_time']).astype(int)/ 10**9"
   ]
  },
  {
   "cell_type": "code",
   "execution_count": 12,
   "id": "a03b3c53",
   "metadata": {},
   "outputs": [],
   "source": [
    "from sklearn import preprocessing\n",
    "le = preprocessing.LabelEncoder()\n",
    "data['merchant'] = le.fit_transform(data.merchant)\n",
    "data['gender'] = le.fit_transform(data.gender)\n",
    "data['city'] = le.fit_transform(data.city)\n",
    "data['state'] = le.fit_transform(data.state)\n",
    "data['job'] = le.fit_transform(data.job)\n",
    "data['category'] = le.fit_transform(data.category)\n"
   ]
  },
  {
   "cell_type": "code",
   "execution_count": 15,
   "id": "9118411b",
   "metadata": {},
   "outputs": [],
   "source": [
    "drop_col = ['first', 'last', 'street', 'dob', 'trans_num']\n",
    "data.drop(drop_col, inplace=True, axis=1)"
   ]
  },
  {
   "cell_type": "code",
   "execution_count": 16,
   "id": "03c07de4",
   "metadata": {},
   "outputs": [
    {
     "name": "stdout",
     "output_type": "stream",
     "text": [
      "<class 'pandas.core.frame.DataFrame'>\n",
      "RangeIndex: 555719 entries, 0 to 555718\n",
      "Data columns (total 17 columns):\n",
      " #   Column                 Non-Null Count   Dtype  \n",
      "---  ------                 --------------   -----  \n",
      " 0   trans_date_trans_time  555719 non-null  float64\n",
      " 1   cc_num                 555719 non-null  float64\n",
      " 2   merchant               555719 non-null  int64  \n",
      " 3   category               555719 non-null  int64  \n",
      " 4   amt                    555719 non-null  float64\n",
      " 5   gender                 555719 non-null  int64  \n",
      " 6   city                   555719 non-null  int64  \n",
      " 7   state                  555719 non-null  int64  \n",
      " 8   zip                    555719 non-null  int64  \n",
      " 9   lat                    555719 non-null  float64\n",
      " 10  long                   555719 non-null  float64\n",
      " 11  city_pop               555719 non-null  int64  \n",
      " 12  job                    555719 non-null  int64  \n",
      " 13  unix_time              555719 non-null  int64  \n",
      " 14  merch_lat              555719 non-null  float64\n",
      " 15  merch_long             555719 non-null  float64\n",
      " 16  is_fraud               555719 non-null  int64  \n",
      "dtypes: float64(7), int64(10)\n",
      "memory usage: 72.1 MB\n"
     ]
    }
   ],
   "source": [
    "data.info()"
   ]
  },
  {
   "cell_type": "code",
   "execution_count": 17,
   "id": "c8f99dcb",
   "metadata": {},
   "outputs": [],
   "source": [
    "fraud_trans = data[data['is_fraud'] == 1]\n",
    "normal_trans = data[data['is_fraud'] == 0]"
   ]
  },
  {
   "cell_type": "code",
   "execution_count": 21,
   "id": "6e5a727c",
   "metadata": {},
   "outputs": [
    {
     "name": "stdout",
     "output_type": "stream",
     "text": [
      "0.3874820710510248\n",
      "Fraud Cases: 2145\n",
      "Valid Transactions: 553574\n"
     ]
    }
   ],
   "source": [
    "outlierFraction = (len(fraud_trans)/float(len(normal_trans)))*100\n",
    "print(outlierFraction)\n",
    "print('Fraud Cases: {}'.format(len(data[data['is_fraud'] == 1])))\n",
    "print('Valid Transactions: {}'.format(len(data[data['is_fraud'] == 0])))\n"
   ]
  },
  {
   "cell_type": "code",
   "execution_count": 24,
   "id": "7b0fbfba",
   "metadata": {},
   "outputs": [
    {
     "name": "stdout",
     "output_type": "stream",
     "text": [
      "Amount details of the fraudulent transaction\n"
     ]
    },
    {
     "data": {
      "text/plain": [
       "count    2145.000000\n",
       "mean      528.356494\n",
       "std       392.747594\n",
       "min         1.780000\n",
       "25%       214.510000\n",
       "50%       371.940000\n",
       "75%       907.770000\n",
       "max      1320.920000\n",
       "Name: amt, dtype: float64"
      ]
     },
     "execution_count": 24,
     "metadata": {},
     "output_type": "execute_result"
    }
   ],
   "source": [
    "print('Amount details of the fraudulent transaction')\n",
    "fraud_trans.amt.describe()"
   ]
  },
  {
   "cell_type": "code",
   "execution_count": 25,
   "id": "56e1bbcf",
   "metadata": {},
   "outputs": [
    {
     "name": "stdout",
     "output_type": "stream",
     "text": [
      "Amount details of the Normal transaction\n"
     ]
    },
    {
     "data": {
      "text/plain": [
       "count    553574.000000\n",
       "mean         67.614408\n",
       "std         152.471931\n",
       "min           1.000000\n",
       "25%           9.600000\n",
       "50%          47.150000\n",
       "75%          82.620000\n",
       "max       22768.110000\n",
       "Name: amt, dtype: float64"
      ]
     },
     "execution_count": 25,
     "metadata": {},
     "output_type": "execute_result"
    }
   ],
   "source": [
    "print('Amount details of the Normal transaction')\n",
    "normal_trans.amt.describe()"
   ]
  },
  {
   "cell_type": "code",
   "execution_count": 28,
   "id": "442d44f5",
   "metadata": {},
   "outputs": [
    {
     "data": {
      "text/plain": [
       "<AxesSubplot:>"
      ]
     },
     "execution_count": 28,
     "metadata": {},
     "output_type": "execute_result"
    },
    {
     "data": {
      "image/png": "[encoded data removed]",
      "text/plain": [
       "<Figure size 936x720 with 2 Axes>"
      ]
     },
     "metadata": {
      "needs_background": "light"
     },
     "output_type": "display_data"
    }
   ],
   "source": [
    "corr = data.corr()\n",
    "plt.figure(figsize=(13,10))\n",
    "sns.heatmap(corr, vmax = .8, square=True)"
   ]
  },
  {
   "cell_type": "code",
   "execution_count": 29,
   "id": "2157b501",
   "metadata": {},
   "outputs": [
    {
     "name": "stdout",
     "output_type": "stream",
     "text": [
      "(555719, 16)\n",
      "(555719,)\n"
     ]
    }
   ],
   "source": [
    "X = data.drop(['is_fraud'], axis=1)\n",
    "Y = data['is_fraud']\n",
    "print(X.shape)\n",
    "print(Y.shape)"
   ]
  },
  {
   "cell_type": "code",
   "execution_count": 30,
   "id": "5e368480",
   "metadata": {},
   "outputs": [
    {
     "data": {
      "text/html": [
       "<div>\n",
       "<style scoped>\n",
       "    .dataframe tbody tr th:only-of-type {\n",
       "        vertical-align: middle;\n",
       "    }\n",
       "\n",
       "    .dataframe tbody tr th {\n",
       "        vertical-align: top;\n",
       "    }\n",
       "\n",
       "    .dataframe thead th {\n",
       "        text-align: right;\n",
       "    }\n",
       "</style>\n",
       "<table border=\"1\" class=\"dataframe\">\n",
       "  <thead>\n",
       "    <tr style=\"text-align: right;\">\n",
       "      <th></th>\n",
       "      <th>trans_date_trans_time</th>\n",
       "      <th>cc_num</th>\n",
       "      <th>merchant</th>\n",
       "      <th>category</th>\n",
       "      <th>amt</th>\n",
       "      <th>gender</th>\n",
       "      <th>city</th>\n",
       "      <th>state</th>\n",
       "      <th>zip</th>\n",
       "      <th>lat</th>\n",
       "      <th>long</th>\n",
       "      <th>city_pop</th>\n",
       "      <th>job</th>\n",
       "      <th>unix_time</th>\n",
       "      <th>merch_lat</th>\n",
       "      <th>merch_long</th>\n",
       "    </tr>\n",
       "  </thead>\n",
       "  <tbody>\n",
       "    <tr>\n",
       "      <th>0</th>\n",
       "      <td>1.592742e+09</td>\n",
       "      <td>2.291160e+15</td>\n",
       "      <td>319</td>\n",
       "      <td>10</td>\n",
       "      <td>2.86</td>\n",
       "      <td>1</td>\n",
       "      <td>157</td>\n",
       "      <td>39</td>\n",
       "      <td>29209</td>\n",
       "      <td>33.9659</td>\n",
       "      <td>-80.9355</td>\n",
       "      <td>333497</td>\n",
       "      <td>275</td>\n",
       "      <td>1371816865</td>\n",
       "      <td>33.986391</td>\n",
       "      <td>-81.200714</td>\n",
       "    </tr>\n",
       "    <tr>\n",
       "      <th>1</th>\n",
       "      <td>1.592742e+09</td>\n",
       "      <td>3.573030e+15</td>\n",
       "      <td>591</td>\n",
       "      <td>10</td>\n",
       "      <td>29.84</td>\n",
       "      <td>0</td>\n",
       "      <td>16</td>\n",
       "      <td>43</td>\n",
       "      <td>84002</td>\n",
       "      <td>40.3207</td>\n",
       "      <td>-110.4360</td>\n",
       "      <td>302</td>\n",
       "      <td>392</td>\n",
       "      <td>1371816873</td>\n",
       "      <td>39.450498</td>\n",
       "      <td>-109.960431</td>\n",
       "    </tr>\n",
       "    <tr>\n",
       "      <th>2</th>\n",
       "      <td>1.592742e+09</td>\n",
       "      <td>3.598220e+15</td>\n",
       "      <td>611</td>\n",
       "      <td>5</td>\n",
       "      <td>41.28</td>\n",
       "      <td>0</td>\n",
       "      <td>61</td>\n",
       "      <td>33</td>\n",
       "      <td>11710</td>\n",
       "      <td>40.6729</td>\n",
       "      <td>-73.5365</td>\n",
       "      <td>34496</td>\n",
       "      <td>259</td>\n",
       "      <td>1371816893</td>\n",
       "      <td>40.495810</td>\n",
       "      <td>-74.196111</td>\n",
       "    </tr>\n",
       "    <tr>\n",
       "      <th>3</th>\n",
       "      <td>1.592742e+09</td>\n",
       "      <td>3.591920e+15</td>\n",
       "      <td>222</td>\n",
       "      <td>9</td>\n",
       "      <td>60.05</td>\n",
       "      <td>1</td>\n",
       "      <td>764</td>\n",
       "      <td>8</td>\n",
       "      <td>32780</td>\n",
       "      <td>28.5697</td>\n",
       "      <td>-80.8191</td>\n",
       "      <td>54767</td>\n",
       "      <td>407</td>\n",
       "      <td>1371816915</td>\n",
       "      <td>28.812398</td>\n",
       "      <td>-80.883061</td>\n",
       "    </tr>\n",
       "    <tr>\n",
       "      <th>4</th>\n",
       "      <td>1.592742e+09</td>\n",
       "      <td>3.526830e+15</td>\n",
       "      <td>292</td>\n",
       "      <td>13</td>\n",
       "      <td>3.19</td>\n",
       "      <td>1</td>\n",
       "      <td>247</td>\n",
       "      <td>21</td>\n",
       "      <td>49632</td>\n",
       "      <td>44.2529</td>\n",
       "      <td>-85.0170</td>\n",
       "      <td>1126</td>\n",
       "      <td>196</td>\n",
       "      <td>1371816917</td>\n",
       "      <td>44.959148</td>\n",
       "      <td>-85.884734</td>\n",
       "    </tr>\n",
       "    <tr>\n",
       "      <th>...</th>\n",
       "      <td>...</td>\n",
       "      <td>...</td>\n",
       "      <td>...</td>\n",
       "      <td>...</td>\n",
       "      <td>...</td>\n",
       "      <td>...</td>\n",
       "      <td>...</td>\n",
       "      <td>...</td>\n",
       "      <td>...</td>\n",
       "      <td>...</td>\n",
       "      <td>...</td>\n",
       "      <td>...</td>\n",
       "      <td>...</td>\n",
       "      <td>...</td>\n",
       "      <td>...</td>\n",
       "      <td>...</td>\n",
       "    </tr>\n",
       "    <tr>\n",
       "      <th>555714</th>\n",
       "      <td>1.609459e+09</td>\n",
       "      <td>3.056060e+13</td>\n",
       "      <td>507</td>\n",
       "      <td>5</td>\n",
       "      <td>43.77</td>\n",
       "      <td>1</td>\n",
       "      <td>443</td>\n",
       "      <td>23</td>\n",
       "      <td>63453</td>\n",
       "      <td>40.4931</td>\n",
       "      <td>-91.8912</td>\n",
       "      <td>519</td>\n",
       "      <td>460</td>\n",
       "      <td>1388534347</td>\n",
       "      <td>39.946837</td>\n",
       "      <td>-91.333331</td>\n",
       "    </tr>\n",
       "    <tr>\n",
       "      <th>555715</th>\n",
       "      <td>1.609459e+09</td>\n",
       "      <td>3.556610e+15</td>\n",
       "      <td>264</td>\n",
       "      <td>7</td>\n",
       "      <td>111.84</td>\n",
       "      <td>1</td>\n",
       "      <td>401</td>\n",
       "      <td>42</td>\n",
       "      <td>77566</td>\n",
       "      <td>29.0393</td>\n",
       "      <td>-95.4401</td>\n",
       "      <td>28739</td>\n",
       "      <td>198</td>\n",
       "      <td>1388534349</td>\n",
       "      <td>29.661049</td>\n",
       "      <td>-96.186633</td>\n",
       "    </tr>\n",
       "    <tr>\n",
       "      <th>555716</th>\n",
       "      <td>1.609459e+09</td>\n",
       "      <td>6.011720e+15</td>\n",
       "      <td>496</td>\n",
       "      <td>7</td>\n",
       "      <td>86.88</td>\n",
       "      <td>0</td>\n",
       "      <td>104</td>\n",
       "      <td>46</td>\n",
       "      <td>99323</td>\n",
       "      <td>46.1966</td>\n",
       "      <td>-118.9017</td>\n",
       "      <td>3684</td>\n",
       "      <td>294</td>\n",
       "      <td>1388534355</td>\n",
       "      <td>46.658340</td>\n",
       "      <td>-119.715054</td>\n",
       "    </tr>\n",
       "    <tr>\n",
       "      <th>555717</th>\n",
       "      <td>1.609459e+09</td>\n",
       "      <td>4.079770e+12</td>\n",
       "      <td>75</td>\n",
       "      <td>13</td>\n",
       "      <td>7.99</td>\n",
       "      <td>1</td>\n",
       "      <td>476</td>\n",
       "      <td>12</td>\n",
       "      <td>83643</td>\n",
       "      <td>44.6255</td>\n",
       "      <td>-116.4493</td>\n",
       "      <td>129</td>\n",
       "      <td>58</td>\n",
       "      <td>1388534364</td>\n",
       "      <td>44.470525</td>\n",
       "      <td>-117.080888</td>\n",
       "    </tr>\n",
       "    <tr>\n",
       "      <th>555718</th>\n",
       "      <td>1.609459e+09</td>\n",
       "      <td>4.170690e+15</td>\n",
       "      <td>125</td>\n",
       "      <td>0</td>\n",
       "      <td>38.13</td>\n",
       "      <td>1</td>\n",
       "      <td>224</td>\n",
       "      <td>35</td>\n",
       "      <td>73034</td>\n",
       "      <td>35.6665</td>\n",
       "      <td>-97.4798</td>\n",
       "      <td>116001</td>\n",
       "      <td>276</td>\n",
       "      <td>1388534374</td>\n",
       "      <td>36.210097</td>\n",
       "      <td>-97.036372</td>\n",
       "    </tr>\n",
       "  </tbody>\n",
       "</table>\n",
       "<p>555719 rows × 16 columns</p>\n",
       "</div>"
      ],
      "text/plain": [
       "        trans_date_trans_time        cc_num  merchant  category     amt  \\\n",
       "0                1.592742e+09  2.291160e+15       319        10    2.86   \n",
       "1                1.592742e+09  3.573030e+15       591        10   29.84   \n",
       "2                1.592742e+09  3.598220e+15       611         5   41.28   \n",
       "3                1.592742e+09  3.591920e+15       222         9   60.05   \n",
       "4                1.592742e+09  3.526830e+15       292        13    3.19   \n",
       "...                       ...           ...       ...       ...     ...   \n",
       "555714           1.609459e+09  3.056060e+13       507         5   43.77   \n",
       "555715           1.609459e+09  3.556610e+15       264         7  111.84   \n",
       "555716           1.609459e+09  6.011720e+15       496         7   86.88   \n",
       "555717           1.609459e+09  4.079770e+12        75        13    7.99   \n",
       "555718           1.609459e+09  4.170690e+15       125         0   38.13   \n",
       "\n",
       "        gender  city  state    zip      lat      long  city_pop  job  \\\n",
       "0            1   157     39  29209  33.9659  -80.9355    333497  275   \n",
       "1            0    16     43  84002  40.3207 -110.4360       302  392   \n",
       "2            0    61     33  11710  40.6729  -73.5365     34496  259   \n",
       "3            1   764      8  32780  28.5697  -80.8191     54767  407   \n",
       "4            1   247     21  49632  44.2529  -85.0170      1126  196   \n",
       "...        ...   ...    ...    ...      ...       ...       ...  ...   \n",
       "555714       1   443     23  63453  40.4931  -91.8912       519  460   \n",
       "555715       1   401     42  77566  29.0393  -95.4401     28739  198   \n",
       "555716       0   104     46  99323  46.1966 -118.9017      3684  294   \n",
       "555717       1   476     12  83643  44.6255 -116.4493       129   58   \n",
       "555718       1   224     35  73034  35.6665  -97.4798    116001  276   \n",
       "\n",
       "         unix_time  merch_lat  merch_long  \n",
       "0       1371816865  33.986391  -81.200714  \n",
       "1       1371816873  39.450498 -109.960431  \n",
       "2       1371816893  40.495810  -74.196111  \n",
       "3       1371816915  28.812398  -80.883061  \n",
       "4       1371816917  44.959148  -85.884734  \n",
       "...            ...        ...         ...  \n",
       "555714  1388534347  39.946837  -91.333331  \n",
       "555715  1388534349  29.661049  -96.186633  \n",
       "555716  1388534355  46.658340 -119.715054  \n",
       "555717  1388534364  44.470525 -117.080888  \n",
       "555718  1388534374  36.210097  -97.036372  \n",
       "\n",
       "[555719 rows x 16 columns]"
      ]
     },
     "execution_count": 30,
     "metadata": {},
     "output_type": "execute_result"
    }
   ],
   "source": [
    "X"
   ]
  },
  {
   "cell_type": "code",
   "execution_count": 31,
   "id": "47d2fc56",
   "metadata": {},
   "outputs": [
    {
     "data": {
      "text/plain": [
       "0         0\n",
       "1         0\n",
       "2         0\n",
       "3         0\n",
       "4         0\n",
       "         ..\n",
       "555714    0\n",
       "555715    0\n",
       "555716    0\n",
       "555717    0\n",
       "555718    0\n",
       "Name: is_fraud, Length: 555719, dtype: int64"
      ]
     },
     "execution_count": 31,
     "metadata": {},
     "output_type": "execute_result"
    }
   ],
   "source": [
    "Y"
   ]
  },
  {
   "cell_type": "code",
   "execution_count": 32,
   "id": "56410037",
   "metadata": {},
   "outputs": [],
   "source": [
    "xData = X.values\n",
    "yData = Y.values"
   ]
  },
  {
   "cell_type": "code",
   "execution_count": 33,
   "id": "28adfc03",
   "metadata": {},
   "outputs": [
    {
     "data": {
      "text/plain": [
       "array([[ 1.59274164e+09,  2.29116000e+15,  3.19000000e+02, ...,\n",
       "         1.37181686e+09,  3.39863910e+01, -8.12007140e+01],\n",
       "       [ 1.59274164e+09,  3.57303000e+15,  5.91000000e+02, ...,\n",
       "         1.37181687e+09,  3.94504980e+01, -1.09960431e+02],\n",
       "       [ 1.59274164e+09,  3.59822000e+15,  6.11000000e+02, ...,\n",
       "         1.37181689e+09,  4.04958100e+01, -7.41961110e+01],\n",
       "       ...,\n",
       "       [ 1.60945914e+09,  6.01172000e+15,  4.96000000e+02, ...,\n",
       "         1.38853436e+09,  4.66583400e+01, -1.19715054e+02],\n",
       "       [ 1.60945914e+09,  4.07977000e+12,  7.50000000e+01, ...,\n",
       "         1.38853436e+09,  4.44705250e+01, -1.17080888e+02],\n",
       "       [ 1.60945914e+09,  4.17069000e+15,  1.25000000e+02, ...,\n",
       "         1.38853437e+09,  3.62100970e+01, -9.70363720e+01]])"
      ]
     },
     "execution_count": 33,
     "metadata": {},
     "output_type": "execute_result"
    }
   ],
   "source": [
    "xData"
   ]
  },
  {
   "cell_type": "code",
   "execution_count": 34,
   "id": "188d0e7e",
   "metadata": {},
   "outputs": [
    {
     "data": {
      "text/plain": [
       "array([0, 0, 0, ..., 0, 0, 0])"
      ]
     },
     "execution_count": 34,
     "metadata": {},
     "output_type": "execute_result"
    }
   ],
   "source": [
    "yData"
   ]
  },
  {
   "cell_type": "code",
   "execution_count": 36,
   "id": "591fa64f",
   "metadata": {},
   "outputs": [],
   "source": [
    "from sklearn.model_selection import train_test_split \n",
    "# Split the data into training and testing sets \n",
    "xTrain, xTest, yTrain, yTest = train_test_split( xData, yData, test_size = 0.2, random_state = 42)"
   ]
  },
  {
   "cell_type": "code",
   "execution_count": 38,
   "id": "7fe0dbf9",
   "metadata": {},
   "outputs": [],
   "source": [
    "from sklearn.ensemble import RandomForestClassifier\n",
    "rfc = RandomForestClassifier()\n",
    "rfc.fit(xTrain, yTrain)\n",
    "yPred = rfc.predict(xTest)"
   ]
  },
  {
   "cell_type": "code",
   "execution_count": 40,
   "id": "9254aa46",
   "metadata": {},
   "outputs": [],
   "source": [
    "from sklearn.metrics import classification_report, accuracy_score\n",
    "\n",
    "from sklearn.metrics import precision_score, recall_score\n",
    "\n",
    "from sklearn.metrics import f1_score, matthews_corrcoef\n",
    "\n",
    "from sklearn.metrics import confusion_matrix"
   ]
  },
  {
   "cell_type": "code",
   "execution_count": 43,
   "id": "75084c5e",
   "metadata": {},
   "outputs": [
    {
     "name": "stdout",
     "output_type": "stream",
     "text": [
      "The model used is Random Forest classifier\n",
      "The accuracy is 0.9984164687252574\n",
      "The precision is 0.9528985507246377\n",
      "The recall is 0.6173708920187794\n",
      "The F1_Score is 0.7492877492877492\n",
      "The Matthews correlation coefficient is 0.7663370321421019\n"
     ]
    }
   ],
   "source": [
    "n_outliers = len(fraud_trans)\n",
    "\n",
    "n_errors=(yPred != yTest).sum()\n",
    "\n",
    "print(\"The model used is Random Forest classifier\")\n",
    "\n",
    "acc = accuracy_score(yTest, yPred)\n",
    "\n",
    "print('The accuracy is {}'.format(acc))\n",
    "\n",
    "prec = precision_score(yTest, yPred)\n",
    "\n",
    "print(\"The precision is {}\".format(prec))\n",
    "\n",
    "rec = recall_score(yTest, yPred)\n",
    "\n",
    "print('The recall is {}'.format(rec))\n",
    "\n",
    "f1 = f1_score(yTest, yPred)\n",
    "\n",
    "print(\"The F1_Score is {}\".format(f1))\n",
    "\n",
    "MCC = matthews_corrcoef(yTest, yPred) \n",
    "print('The Matthews correlation coefficient is {}'.format(MCC))"
   ]
  },
  {
   "cell_type": "code",
   "execution_count": 44,
   "id": "a287fbfa",
   "metadata": {},
   "outputs": [
    {
     "data": {
      "image/png": "[encoded data removed]",
      "text/plain": [
       "<Figure size 864x864 with 2 Axes>"
      ]
     },
     "metadata": {
      "needs_background": "light"
     },
     "output_type": "display_data"
    }
   ],
   "source": [
    "LABELS = ['Normal', 'Fraud']\n",
    "conf_matrix = confusion_matrix(yTest, yPred)\n",
    "plt.figure(figsize =(12, 12))\n",
    "sns.heatmap(conf_matrix, xticklabels = LABELS,\n",
    "            yticklabels = LABELS, annot = True, fmt =\"d\");\n",
    "plt.title(\"Confusion matrix\")\n",
    "plt.ylabel('True class')\n",
    "plt.xlabel('Predicted class')\n",
    "plt.show()\n"
   ]
  },
  {
   "cell_type": "code",
   "execution_count": null,
   "id": "3d6891b3",
   "metadata": {},
   "outputs": [],
   "source": []
  }
 ],
 "metadata": {
  "kernelspec": {
   "display_name": "Python 3 (ipykernel)",
   "language": "python",
   "name": "python3"
  },
  "language_info": {
   "codemirror_mode": {
    "name": "ipython",
    "version": 3
   },
   "file_extension": ".py",
   "mimetype": "text/x-python",
   "name": "python",
   "nbconvert_exporter": "python",
   "pygments_lexer": "ipython3",
   "version": "3.8.10"
  }
 },
 "nbformat": 4,
 "nbformat_minor": 5
}
